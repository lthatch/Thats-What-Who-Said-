{
 "cells": [
  {
   "cell_type": "code",
   "execution_count": 252,
   "metadata": {},
   "outputs": [],
   "source": [
    "import pandas as pd\n",
    "import numpy as np\n",
    "from matplotlib import pyplot as plt\n",
    "from sklearn.model_selection import train_test_split, cross_val_predict, RandomizedSearchCV\n",
    "from sklearn.feature_extraction.text import CountVectorizer, TfidfTransformer\n",
    "from sklearn.naive_bayes import ComplementNB, MultinomialNB\n",
    "from sklearn import metrics\n",
    "from sklearn.pipeline import Pipeline\n",
    "from sklearn.metrics import confusion_matrix\n",
    "from sklearn import svm\n",
    "import seaborn as sns\n",
    "import scikitplot as skplt\n",
    "import joblib\n",
    "from scipy.stats import uniform as sp_rand"
   ]
  },
  {
   "cell_type": "code",
   "execution_count": 253,
   "metadata": {},
   "outputs": [],
   "source": [
    "cnb = joblib.load('../models/cnb.pkl')"
   ]
  },
  {
   "cell_type": "code",
   "execution_count": 254,
   "metadata": {},
   "outputs": [],
   "source": [
    "df = pd.read_csv('../data/The-Office-Lines-V3.csv', encoding='latin-1')"
   ]
  },
  {
   "cell_type": "code",
   "execution_count": 255,
   "metadata": {},
   "outputs": [],
   "source": [
    "df['line'] = df['line'].str.lower()\n",
    "speakers = []\n",
    "for i in df.speaker.value_counts().head(22).index:\n",
    "    speakers.append(i)"
   ]
  },
  {
   "cell_type": "code",
   "execution_count": 256,
   "metadata": {},
   "outputs": [
    {
     "data": {
      "text/plain": [
       "['Michael',\n",
       " 'Dwight',\n",
       " 'Jim',\n",
       " 'Pam',\n",
       " 'Andy',\n",
       " 'Kevin',\n",
       " 'Angela',\n",
       " 'Erin',\n",
       " 'Oscar',\n",
       " 'Ryan',\n",
       " 'Darryl',\n",
       " 'Phyllis',\n",
       " 'Kelly',\n",
       " 'Toby',\n",
       " 'Jan',\n",
       " 'Stanley',\n",
       " 'Meredith',\n",
       " 'Holly',\n",
       " 'Nellie',\n",
       " 'Gabe',\n",
       " 'Robert',\n",
       " 'Creed']"
      ]
     },
     "execution_count": 256,
     "metadata": {},
     "output_type": "execute_result"
    }
   ],
   "source": [
    "speakers"
   ]
  },
  {
   "cell_type": "code",
   "execution_count": 257,
   "metadata": {},
   "outputs": [],
   "source": [
    "speaker_extras = [\"'\", 'and', '&', '/', 'as', ',']"
   ]
  },
  {
   "cell_type": "code",
   "execution_count": 258,
   "metadata": {},
   "outputs": [],
   "source": [
    "df = df[df.speaker.str.match('|'.join(speakers))]\n",
    "df.drop(df[df.speaker.str.contains('|'.join(speaker_extras))].index, inplace=True)"
   ]
  },
  {
   "cell_type": "code",
   "execution_count": 259,
   "metadata": {},
   "outputs": [],
   "source": [
    "df['speaker'] = df.speaker.str.replace(': ','')\n",
    "df['speaker'] = df.speaker.str.replace(':','')\n",
    "df['speaker'] = df.speaker.str.replace('.','')\n",
    "df['speaker'] = df.speaker.str.replace('Dwight ','Dwight')\n",
    "df['speaker'] = df.speaker.str.replace('Michael ','Michael')\n",
    "df['speaker'] = df.speaker.str.replace('DwightKSchrute','Dwight')\n",
    "df['speaker'] = df.speaker.str.replace('Jim ','Jim')\n",
    "df['speaker'] = df.speaker.str.replace('Pam ','Pam')\n",
    "df['speaker'] = df.speaker.str.replace('Robert California','Robert')\n",
    "df['speaker'] = df.speaker.str.replace('Nellie Bertram','Nellie')"
   ]
  },
  {
   "cell_type": "code",
   "execution_count": 260,
   "metadata": {},
   "outputs": [],
   "source": [
    "df.drop(df[df.speaker=='Ryan Howard'].index, inplace=True)\n",
    "df.drop(df[df.speaker=='Robert Dunder'].index, inplace=True)\n",
    "df.drop(df[df.speaker=='Gabe'].index, inplace=True)\n",
    "df.drop(df[df.speaker=='Holly'].index, inplace=True)\n",
    "df.drop(df[df.speaker=='Kelly'].index, inplace=True)\n",
    "df.drop(df[df.speaker=='Meredith'].index, inplace=True)\n",
    "df.drop(df[df.speaker=='Nellie'].index, inplace=True)\n",
    "df.drop(df[df.speaker=='Oscar'].index, inplace=True)\n",
    "df.drop(df[df.speaker=='Phyllis'].index, inplace=True)\n",
    "df.drop(df[df.speaker=='Toby'].index, inplace=True)\n",
    "df.drop(df[df.speaker=='Jan'].index, inplace=True)\n",
    "df.drop(df[df.speaker=='Erin'].index, inplace=True)\n",
    "df.drop(df[df.speaker=='Robert'].index, inplace=True)\n",
    "df.drop(df[df.speaker=='Ryan'].index, inplace=True)"
   ]
  },
  {
   "cell_type": "code",
   "execution_count": 261,
   "metadata": {},
   "outputs": [
    {
     "data": {
      "text/plain": [
       "Michael    10850\n",
       "Dwight      6793\n",
       "Jim         6257\n",
       "Pam         5005\n",
       "Andy        3733\n",
       "Angela      1551\n",
       "Kevin       1542\n",
       "Darryl      1170\n",
       "Stanley      672\n",
       "Creed        395\n",
       "Name: speaker, dtype: int64"
      ]
     },
     "execution_count": 261,
     "metadata": {},
     "output_type": "execute_result"
    }
   ],
   "source": [
    "df.speaker.value_counts()"
   ]
  },
  {
   "cell_type": "code",
   "execution_count": 262,
   "metadata": {},
   "outputs": [],
   "source": [
    "X = df.line\n",
    "y = df.speaker\n",
    "X_train, X_test, y_train, y_test = train_test_split(X, y, test_size=0.2, stratify=y)"
   ]
  },
  {
   "cell_type": "code",
   "execution_count": 263,
   "metadata": {},
   "outputs": [],
   "source": [
    "count_vect = CountVectorizer(stop_words='english', decode_error='replace')\n",
    "X_train_counts = count_vect.fit_transform(X_train)"
   ]
  },
  {
   "cell_type": "code",
   "execution_count": 276,
   "metadata": {},
   "outputs": [
    {
     "data": {
      "text/plain": [
       "['../models/searchcountVec.pkl']"
      ]
     },
     "execution_count": 276,
     "metadata": {},
     "output_type": "execute_result"
    }
   ],
   "source": [
    "# joblib.dump(count_vect.vocabulary_, '../models/searchcountVec.pkl')"
   ]
  },
  {
   "cell_type": "code",
   "execution_count": 265,
   "metadata": {},
   "outputs": [],
   "source": [
    "tfidf_transformer = TfidfTransformer()\n",
    "X_train_tfidf = tfidf_transformer.fit_transform(X_train_counts)"
   ]
  },
  {
   "cell_type": "code",
   "execution_count": 266,
   "metadata": {},
   "outputs": [],
   "source": [
    "X_test_counts = count_vect.transform(X_test)\n",
    "X_test_tfidf = tfidf_transformer.transform(X_test_counts)"
   ]
  },
  {
   "cell_type": "code",
   "execution_count": 267,
   "metadata": {},
   "outputs": [
    {
     "name": "stdout",
     "output_type": "stream",
     "text": [
      "(7594, 14581)\n",
      "(7594, 14581)\n"
     ]
    }
   ],
   "source": [
    "print(X_test_counts.shape)\n",
    "print(X_test_tfidf.shape)"
   ]
  },
  {
   "cell_type": "code",
   "execution_count": 268,
   "metadata": {},
   "outputs": [],
   "source": [
    "param_grid = {'alpha': sp_rand()}"
   ]
  },
  {
   "cell_type": "code",
   "execution_count": 269,
   "metadata": {},
   "outputs": [],
   "source": [
    "rsearch = RandomizedSearchCV(estimator=cnb, param_distributions=param_grid, n_iter=1000)\n",
    "search = rsearch.fit(X_train_tfidf, y_train)"
   ]
  },
  {
   "cell_type": "code",
   "execution_count": 275,
   "metadata": {},
   "outputs": [
    {
     "data": {
      "text/plain": [
       "['../models/search.pkl']"
      ]
     },
     "execution_count": 275,
     "metadata": {},
     "output_type": "execute_result"
    }
   ],
   "source": [
    "# joblib.dump(search, '../models/search.pkl')"
   ]
  },
  {
   "cell_type": "code",
   "execution_count": 271,
   "metadata": {},
   "outputs": [
    {
     "name": "stdout",
     "output_type": "stream",
     "text": [
      "0.29014946252732077\n",
      "0.9996696741503358\n"
     ]
    }
   ],
   "source": [
    "print(search.best_score_)\n",
    "print(search.best_estimator_.alpha)"
   ]
  },
  {
   "cell_type": "code",
   "execution_count": 272,
   "metadata": {},
   "outputs": [],
   "source": [
    "pred = search.predict(X_test_tfidf)"
   ]
  },
  {
   "cell_type": "code",
   "execution_count": 273,
   "metadata": {},
   "outputs": [
    {
     "name": "stdout",
     "output_type": "stream",
     "text": [
      "              precision    recall  f1-score   support\n",
      "\n",
      "        Andy       0.19      0.24      0.21       747\n",
      "      Angela       0.24      0.11      0.15       310\n",
      "       Creed       0.15      0.08      0.10        79\n",
      "      Darryl       0.24      0.14      0.17       234\n",
      "      Dwight       0.37      0.29      0.33      1359\n",
      "         Jim       0.28      0.31      0.29      1252\n",
      "       Kevin       0.14      0.08      0.10       308\n",
      "     Michael       0.39      0.50      0.44      2170\n",
      "         Pam       0.25      0.22      0.24      1001\n",
      "     Stanley       0.11      0.04      0.06       134\n",
      "\n",
      "    accuracy                           0.31      7594\n",
      "   macro avg       0.24      0.20      0.21      7594\n",
      "weighted avg       0.30      0.31      0.30      7594\n",
      "\n"
     ]
    }
   ],
   "source": [
    "print(metrics.classification_report(y_test, pred))"
   ]
  },
  {
   "cell_type": "code",
   "execution_count": 274,
   "metadata": {},
   "outputs": [
    {
     "data": {
      "image/png": "[encoded data removed]",
      "text/plain": [
       "<Figure size 432x288 with 1 Axes>"
      ]
     },
     "metadata": {
      "needs_background": "light"
     },
     "output_type": "display_data"
    }
   ],
   "source": [
    "mat = confusion_matrix(y_test, pred)\n",
    "sns.heatmap(mat.T, square=True, annot=True, fmt='d', cbar=False,\n",
    "           xticklabels=['Dwight', 'Jim', 'Michael'], yticklabels=['Dwight', 'Jim', 'Michael'])\n",
    "plt.xlabel('true label')\n",
    "plt.ylabel('predicted label');"
   ]
  },
  {
   "cell_type": "code",
   "execution_count": null,
   "metadata": {},
   "outputs": [],
   "source": []
  }
 ],
 "metadata": {
  "kernelspec": {
   "display_name": "Python 3",
   "language": "python",
   "name": "python3"
  },
  "language_info": {
   "codemirror_mode": {
    "name": "ipython",
    "version": 3
   },
   "file_extension": ".py",
   "mimetype": "text/x-python",
   "name": "python",
   "nbconvert_exporter": "python",
   "pygments_lexer": "ipython3",
   "version": "3.7.7"
  }
 },
 "nbformat": 4,
 "nbformat_minor": 4
}
